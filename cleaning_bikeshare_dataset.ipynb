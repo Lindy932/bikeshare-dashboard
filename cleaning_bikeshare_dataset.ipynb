{
 "cells": [
  {
   "cell_type": "code",
   "execution_count": 13,
   "id": "e5f70963-b615-47a8-b687-cc23a0264366",
   "metadata": {},
   "outputs": [],
   "source": [
    "import pandas as pd"
   ]
  },
  {
   "cell_type": "code",
   "execution_count": 14,
   "id": "704b9cbe-9fb6-46d8-8365-6837d435d177",
   "metadata": {},
   "outputs": [],
   "source": [
    "df = pd.read_csv('JC-202504-citibike-tripdata.csv')"
   ]
  },
  {
   "cell_type": "code",
   "execution_count": 15,
   "id": "eeb82a13-38da-47a2-86fb-a1c8712f9e72",
   "metadata": {},
   "outputs": [
    {
     "name": "stdout",
     "output_type": "stream",
     "text": [
      "<class 'pandas.core.frame.DataFrame'>\n",
      "RangeIndex: 81553 entries, 0 to 81552\n",
      "Data columns (total 13 columns):\n",
      " #   Column              Non-Null Count  Dtype  \n",
      "---  ------              --------------  -----  \n",
      " 0   ride_id             81553 non-null  object \n",
      " 1   rideable_type       81553 non-null  object \n",
      " 2   started_at          81553 non-null  object \n",
      " 3   ended_at            81553 non-null  object \n",
      " 4   start_station_name  81553 non-null  object \n",
      " 5   start_station_id    81553 non-null  object \n",
      " 6   end_station_name    81329 non-null  object \n",
      " 7   end_station_id      81292 non-null  object \n",
      " 8   start_lat           81553 non-null  float64\n",
      " 9   start_lng           81553 non-null  float64\n",
      " 10  end_lat             81531 non-null  float64\n",
      " 11  end_lng             81531 non-null  float64\n",
      " 12  member_casual       81553 non-null  object \n",
      "dtypes: float64(4), object(9)\n",
      "memory usage: 8.1+ MB\n"
     ]
    }
   ],
   "source": [
    "df.info()"
   ]
  },
  {
   "cell_type": "code",
   "execution_count": 16,
   "id": "e1ae39f9-fa61-42be-a967-2e9f13d8372a",
   "metadata": {
    "scrolled": true
   },
   "outputs": [
    {
     "data": {
      "text/plain": [
       "ride_id                 0\n",
       "rideable_type           0\n",
       "started_at              0\n",
       "ended_at                0\n",
       "start_station_name      0\n",
       "start_station_id        0\n",
       "end_station_name      224\n",
       "end_station_id        261\n",
       "start_lat               0\n",
       "start_lng               0\n",
       "end_lat                22\n",
       "end_lng                22\n",
       "member_casual           0\n",
       "dtype: int64"
      ]
     },
     "execution_count": 16,
     "metadata": {},
     "output_type": "execute_result"
    }
   ],
   "source": [
    "df.isnull().sum()"
   ]
  },
  {
   "cell_type": "code",
   "execution_count": 17,
   "id": "8b4b9a9d-97d6-477c-925f-7967d647fdc0",
   "metadata": {},
   "outputs": [],
   "source": [
    "df['end_station_name'] = df['end_station_name'].fillna('Unknown')\n",
    "df['end_station_id'] = df['end_station_id'].fillna('Unknown')"
   ]
  },
  {
   "cell_type": "code",
   "execution_count": 18,
   "id": "ff88b80c-d879-441b-b4f9-6e4bacbc553a",
   "metadata": {},
   "outputs": [],
   "source": [
    "avg_coords = df.groupby('end_station_name')[['end_lat','end_lng']].mean()"
   ]
  },
  {
   "cell_type": "code",
   "execution_count": 19,
   "id": "b625806f-c40f-43da-bcab-e637c2ebbf90",
   "metadata": {},
   "outputs": [],
   "source": [
    "#calculate average coordinates per station\n",
    "avg_coords = df.groupby('end_station_name')[['end_lat', 'end_lng']].mean()\n",
    "\n",
    "#map averages dataframe and fill in missing values\n",
    "df['avg_lat'] = df['end_station_name'].map(avg_coords['end_lat'])\n",
    "df['avg_lng'] = df['end_station_name'].map(avg_coords['end_lng'])\n",
    "\n",
    "df['end_lat'] = df['end_lat'].fillna(df['avg_lat'])\n",
    "df['end_lng'] = df['end_lng'].fillna(df['avg_lng'])\n",
    "\n",
    "df.drop(columns=['avg_lat', 'avg_lng'], inplace=True)"
   ]
  },
  {
   "cell_type": "code",
   "execution_count": 20,
   "id": "6f62812f-52a3-48c3-ab1d-d6bc81cc0cdf",
   "metadata": {},
   "outputs": [
    {
     "name": "stdout",
     "output_type": "stream",
     "text": [
      "Index(['ride_id', 'rideable_type', 'started_at', 'ended_at',\n",
      "       'start_station_name', 'start_station_id', 'end_station_name',\n",
      "       'end_station_id', 'start_lat', 'start_lng', 'end_lat', 'end_lng',\n",
      "       'member_casual'],\n",
      "      dtype='object')\n"
     ]
    }
   ],
   "source": [
    "print(df.columns)"
   ]
  },
  {
   "cell_type": "code",
   "execution_count": 21,
   "id": "0bfb4c57-75b8-4561-8f91-e4d29700bce7",
   "metadata": {},
   "outputs": [],
   "source": [
    "df['started_at'] = pd.to_datetime(df['started_at'])\n",
    "df['ended_at'] = pd.to_datetime(df['ended_at'])\n",
    "df['ride_duration'] = (df['ended_at']- df['started_at']).dt.total_seconds()/60\n",
    "df['day_of_week'] = df['started_at'].dt.day_name()\n",
    "df['hour'] = df['started_at'].dt.month\n",
    "df['loop_ride'] = df['start_station_name'] == df['end_station_name']\n",
    "\n"
   ]
  },
  {
   "cell_type": "code",
   "execution_count": 22,
   "id": "843d2e23-03b2-4423-90e0-e358c78e5971",
   "metadata": {},
   "outputs": [
    {
     "data": {
      "text/html": [
       "<div>\n",
       "<style scoped>\n",
       "    .dataframe tbody tr th:only-of-type {\n",
       "        vertical-align: middle;\n",
       "    }\n",
       "\n",
       "    .dataframe tbody tr th {\n",
       "        vertical-align: top;\n",
       "    }\n",
       "\n",
       "    .dataframe thead th {\n",
       "        text-align: right;\n",
       "    }\n",
       "</style>\n",
       "<table border=\"1\" class=\"dataframe\">\n",
       "  <thead>\n",
       "    <tr style=\"text-align: right;\">\n",
       "      <th></th>\n",
       "      <th>ride_id</th>\n",
       "      <th>rideable_type</th>\n",
       "      <th>started_at</th>\n",
       "      <th>ended_at</th>\n",
       "      <th>start_station_name</th>\n",
       "      <th>start_station_id</th>\n",
       "      <th>end_station_name</th>\n",
       "      <th>end_station_id</th>\n",
       "      <th>start_lat</th>\n",
       "      <th>start_lng</th>\n",
       "      <th>end_lat</th>\n",
       "      <th>end_lng</th>\n",
       "      <th>member_casual</th>\n",
       "      <th>ride_duration</th>\n",
       "      <th>day_of_week</th>\n",
       "      <th>hour</th>\n",
       "      <th>loop_ride</th>\n",
       "    </tr>\n",
       "  </thead>\n",
       "  <tbody>\n",
       "    <tr>\n",
       "      <th>0</th>\n",
       "      <td>6B10405DA9D9A760</td>\n",
       "      <td>electric_bike</td>\n",
       "      <td>2025-04-24 22:29:40.611</td>\n",
       "      <td>2025-04-24 22:31:48.180</td>\n",
       "      <td>Clinton St &amp; Newark St</td>\n",
       "      <td>HB409</td>\n",
       "      <td>Clinton St &amp; Newark St</td>\n",
       "      <td>HB409</td>\n",
       "      <td>40.73743</td>\n",
       "      <td>-74.03571</td>\n",
       "      <td>40.737430</td>\n",
       "      <td>-74.035710</td>\n",
       "      <td>member</td>\n",
       "      <td>2.126150</td>\n",
       "      <td>Thursday</td>\n",
       "      <td>4</td>\n",
       "      <td>True</td>\n",
       "    </tr>\n",
       "    <tr>\n",
       "      <th>1</th>\n",
       "      <td>E0FFCF6AAA7EFD5E</td>\n",
       "      <td>classic_bike</td>\n",
       "      <td>2025-04-10 18:07:39.559</td>\n",
       "      <td>2025-04-10 18:12:16.533</td>\n",
       "      <td>Clinton St &amp; Newark St</td>\n",
       "      <td>HB409</td>\n",
       "      <td>Mama Johnson Field - 4 St &amp; Jackson St</td>\n",
       "      <td>HB404</td>\n",
       "      <td>40.73743</td>\n",
       "      <td>-74.03571</td>\n",
       "      <td>40.743140</td>\n",
       "      <td>-74.040041</td>\n",
       "      <td>member</td>\n",
       "      <td>4.616233</td>\n",
       "      <td>Thursday</td>\n",
       "      <td>4</td>\n",
       "      <td>False</td>\n",
       "    </tr>\n",
       "    <tr>\n",
       "      <th>2</th>\n",
       "      <td>6CF18FF246216C41</td>\n",
       "      <td>classic_bike</td>\n",
       "      <td>2025-04-16 22:54:04.131</td>\n",
       "      <td>2025-04-16 23:00:21.703</td>\n",
       "      <td>Clinton St &amp; Newark St</td>\n",
       "      <td>HB409</td>\n",
       "      <td>9 St HBLR - Jackson St &amp; 8 St</td>\n",
       "      <td>HB305</td>\n",
       "      <td>40.73743</td>\n",
       "      <td>-74.03571</td>\n",
       "      <td>40.747907</td>\n",
       "      <td>-74.038412</td>\n",
       "      <td>member</td>\n",
       "      <td>6.292867</td>\n",
       "      <td>Wednesday</td>\n",
       "      <td>4</td>\n",
       "      <td>False</td>\n",
       "    </tr>\n",
       "    <tr>\n",
       "      <th>3</th>\n",
       "      <td>3761CCD0D1489C70</td>\n",
       "      <td>classic_bike</td>\n",
       "      <td>2025-04-17 15:38:03.338</td>\n",
       "      <td>2025-04-17 15:47:54.587</td>\n",
       "      <td>Clinton St &amp; Newark St</td>\n",
       "      <td>HB409</td>\n",
       "      <td>14 St Ferry - 14 St &amp; Shipyard Ln</td>\n",
       "      <td>HB202</td>\n",
       "      <td>40.73743</td>\n",
       "      <td>-74.03571</td>\n",
       "      <td>40.752961</td>\n",
       "      <td>-74.024353</td>\n",
       "      <td>casual</td>\n",
       "      <td>9.854150</td>\n",
       "      <td>Thursday</td>\n",
       "      <td>4</td>\n",
       "      <td>False</td>\n",
       "    </tr>\n",
       "    <tr>\n",
       "      <th>4</th>\n",
       "      <td>E6D847415B5A22DF</td>\n",
       "      <td>classic_bike</td>\n",
       "      <td>2025-04-22 06:46:53.286</td>\n",
       "      <td>2025-04-22 06:49:10.829</td>\n",
       "      <td>Clinton St &amp; Newark St</td>\n",
       "      <td>HB409</td>\n",
       "      <td>River St &amp; 1 St</td>\n",
       "      <td>HB609</td>\n",
       "      <td>40.73743</td>\n",
       "      <td>-74.03571</td>\n",
       "      <td>40.737215</td>\n",
       "      <td>-74.028865</td>\n",
       "      <td>member</td>\n",
       "      <td>2.292383</td>\n",
       "      <td>Tuesday</td>\n",
       "      <td>4</td>\n",
       "      <td>False</td>\n",
       "    </tr>\n",
       "  </tbody>\n",
       "</table>\n",
       "</div>"
      ],
      "text/plain": [
       "            ride_id  rideable_type              started_at  \\\n",
       "0  6B10405DA9D9A760  electric_bike 2025-04-24 22:29:40.611   \n",
       "1  E0FFCF6AAA7EFD5E   classic_bike 2025-04-10 18:07:39.559   \n",
       "2  6CF18FF246216C41   classic_bike 2025-04-16 22:54:04.131   \n",
       "3  3761CCD0D1489C70   classic_bike 2025-04-17 15:38:03.338   \n",
       "4  E6D847415B5A22DF   classic_bike 2025-04-22 06:46:53.286   \n",
       "\n",
       "                 ended_at      start_station_name start_station_id  \\\n",
       "0 2025-04-24 22:31:48.180  Clinton St & Newark St            HB409   \n",
       "1 2025-04-10 18:12:16.533  Clinton St & Newark St            HB409   \n",
       "2 2025-04-16 23:00:21.703  Clinton St & Newark St            HB409   \n",
       "3 2025-04-17 15:47:54.587  Clinton St & Newark St            HB409   \n",
       "4 2025-04-22 06:49:10.829  Clinton St & Newark St            HB409   \n",
       "\n",
       "                         end_station_name end_station_id  start_lat  \\\n",
       "0                  Clinton St & Newark St          HB409   40.73743   \n",
       "1  Mama Johnson Field - 4 St & Jackson St          HB404   40.73743   \n",
       "2           9 St HBLR - Jackson St & 8 St          HB305   40.73743   \n",
       "3       14 St Ferry - 14 St & Shipyard Ln          HB202   40.73743   \n",
       "4                         River St & 1 St          HB609   40.73743   \n",
       "\n",
       "   start_lng    end_lat    end_lng member_casual  ride_duration day_of_week  \\\n",
       "0  -74.03571  40.737430 -74.035710        member       2.126150    Thursday   \n",
       "1  -74.03571  40.743140 -74.040041        member       4.616233    Thursday   \n",
       "2  -74.03571  40.747907 -74.038412        member       6.292867   Wednesday   \n",
       "3  -74.03571  40.752961 -74.024353        casual       9.854150    Thursday   \n",
       "4  -74.03571  40.737215 -74.028865        member       2.292383     Tuesday   \n",
       "\n",
       "   hour  loop_ride  \n",
       "0     4       True  \n",
       "1     4      False  \n",
       "2     4      False  \n",
       "3     4      False  \n",
       "4     4      False  "
      ]
     },
     "execution_count": 22,
     "metadata": {},
     "output_type": "execute_result"
    }
   ],
   "source": [
    "df.head()"
   ]
  },
  {
   "cell_type": "code",
   "execution_count": 23,
   "id": "0c2a5a08-d02b-48ec-9250-80a5f26fca6f",
   "metadata": {},
   "outputs": [],
   "source": [
    "df.to_csv('cleaned_bikeshare_data.csv', index=False)"
   ]
  },
  {
   "cell_type": "code",
   "execution_count": null,
   "id": "644378bd-3a80-4505-a8ff-f96238914f72",
   "metadata": {},
   "outputs": [],
   "source": []
  }
 ],
 "metadata": {
  "kernelspec": {
   "display_name": "Python 3 (ipykernel)",
   "language": "python",
   "name": "python3"
  },
  "language_info": {
   "codemirror_mode": {
    "name": "ipython",
    "version": 3
   },
   "file_extension": ".py",
   "mimetype": "text/x-python",
   "name": "python",
   "nbconvert_exporter": "python",
   "pygments_lexer": "ipython3",
   "version": "3.9.6"
  }
 },
 "nbformat": 4,
 "nbformat_minor": 5
}
